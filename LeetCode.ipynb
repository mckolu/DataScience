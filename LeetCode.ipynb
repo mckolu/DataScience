{
  "nbformat": 4,
  "nbformat_minor": 0,
  "metadata": {
    "colab": {
      "provenance": [],
      "authorship_tag": "ABX9TyM0nCCsum1N5ZdcywvP1RlD",
      "include_colab_link": true
    },
    "kernelspec": {
      "name": "python3",
      "display_name": "Python 3"
    },
    "language_info": {
      "name": "python"
    }
  },
  "cells": [
    {
      "cell_type": "markdown",
      "metadata": {
        "id": "view-in-github",
        "colab_type": "text"
      },
      "source": [
        "<a href=\"https://colab.research.google.com/github/mckolu/DataScience/blob/main/LeetCode.ipynb\" target=\"_parent\"><img src=\"https://colab.research.google.com/assets/colab-badge.svg\" alt=\"Open In Colab\"/></a>"
      ]
    },
    {
      "cell_type": "markdown",
      "source": [
        "## 1. Two Sum Question\n",
        "\n",
        "Given an array of integers nums and an integer target, return indices of the two numbers such that they add up to target. You may assume that each input would have exactly one solution, and you may not use the same element twice.\n",
        "\n",
        "[LeetCode](https://leetcode.com/problems/two-sum/solutions/), [Solution](https://towardsdatascience.com/leetcode-problem-1-python-ec6cba23c20f)\n",
        "\n",
        "We want to go through the list once.\n",
        "when we go through a number, if the difference between that number and the numbers existing in the dictionary is not in the dictionary, we added it to the list. \n"
      ],
      "metadata": {
        "id": "oHt1_pRsLGhg"
      }
    },
    {
      "cell_type": "code",
      "execution_count": null,
      "metadata": {
        "colab": {
          "base_uri": "https://localhost:8080/"
        },
        "id": "CnDDPLHNKf3u",
        "outputId": "4b27ef23-d04f-44f7-d14a-5ebd5e021ef0"
      },
      "outputs": [
        {
          "output_type": "stream",
          "name": "stdout",
          "text": [
            "{}\n",
            "{2: 0}\n",
            "{2: 0, 5: 1}\n",
            "{2: 0, 5: 1, 6: 2}\n",
            "{2: 0, 5: 1, 6: 2, 7: 3}\n",
            "{2: 0, 5: 1, 6: 2, 7: 3, 12: 4}\n"
          ]
        },
        {
          "output_type": "execute_result",
          "data": {
            "text/plain": [
              "[4, 5]"
            ]
          },
          "metadata": {},
          "execution_count": 28
        }
      ],
      "source": [
        "class Solution:\n",
        "    # def twoSum(self, nums: List[int], target: int) -> List[int]:\n",
        "    def twoSum(self,nums,target):\n",
        "        myDict = {}\n",
        "\n",
        "        for idx, num in enumerate(nums):\n",
        "          print(myDict)\n",
        "          if target-num in myDict:\n",
        "            return [myDict[target-num], idx]\n",
        "          else:   \n",
        "            myDict[num] = idx\n",
        "\n",
        "\n",
        "\n",
        "test = Solution()\n",
        "test.twoSum([2,5,6,7,12,14,16,20],26)"
      ]
    },
    {
      "cell_type": "markdown",
      "source": [
        "## romanToInt\n"
      ],
      "metadata": {
        "id": "k7IStbgeB6Di"
      }
    },
    {
      "cell_type": "code",
      "source": [
        "def romanToInt(myString: str):\n",
        "    # Dictionary of roman numerals\n",
        "    roman_map = {'I': 1, 'V': 5, 'X': 10, 'L': 50, 'C': 100, 'D': 500, 'M': 1000}\n",
        "    n = len(myString)     # Length of the given string\n",
        "    num = roman_map[myString[n - 1]] # This variable will store result\n",
        "\n",
        "    for i in range(n - 2, -1, -1):  # Loop for each character from right to left    \n",
        "        if roman_map[myString[i]] >= roman_map[myString[i + 1]]:  # Check if the character at right of current character is bigger or smaller\n",
        "            print(roman_map[myString[i]])\n",
        "            num += roma\n",
        "            \n",
        "            n_map[myString[i]]\n",
        "        else:\n",
        "            num -= roman_map[myString[i]]\n",
        "        \n",
        "    # return num\n",
        "\n",
        "romanToInt(\"IIIV\")"
      ],
      "metadata": {
        "colab": {
          "base_uri": "https://localhost:8080/"
        },
        "id": "k4nzunbmL0Ft",
        "outputId": "d07f2ef3-109b-4041-fad9-e0e236f21ae7"
      },
      "execution_count": null,
      "outputs": [
        {
          "output_type": "stream",
          "name": "stdout",
          "text": [
            "1\n",
            "1\n"
          ]
        }
      ]
    },
    {
      "cell_type": "code",
      "source": [],
      "metadata": {
        "id": "aPGfB_keqc8B"
      },
      "execution_count": null,
      "outputs": []
    },
    {
      "cell_type": "code",
      "source": [],
      "metadata": {
        "id": "bHDy46eiqdFV"
      },
      "execution_count": null,
      "outputs": []
    },
    {
      "cell_type": "code",
      "source": [],
      "metadata": {
        "id": "-miggDqAqdHr"
      },
      "execution_count": null,
      "outputs": []
    },
    {
      "cell_type": "code",
      "source": [
        "# Given an array of integers nums and an integer target, return indices of the two numbers such that they add up to target. You may assume that each input would have exactly one solution, and you may not use the same element twice.\n",
        "\n",
        "class Solution:\n",
        "  def twoSum(self, nums, target):\n",
        "    myDict = {}\n",
        "\n",
        "    for key, num in enumerate(nums):\n",
        "      print (key, num)\n",
        "      if target-num in myDict:\n",
        "        return [target-num, key]\n",
        "      else: \n",
        "        myDict[num] = key\n",
        "\n",
        "\n",
        "\n",
        "\n",
        "test1 = Solution()\n",
        "\n",
        "test1.twoSum([1,2,4,5,6,8,12],11)\n",
        "\n",
        "\n",
        "\n"
      ],
      "metadata": {
        "colab": {
          "base_uri": "https://localhost:8080/"
        },
        "id": "8ULw_f4PqdKR",
        "outputId": "a941e0c0-e719-4f98-8dd3-de9ed0151d69"
      },
      "execution_count": null,
      "outputs": [
        {
          "output_type": "stream",
          "name": "stdout",
          "text": [
            "0 1\n",
            "1 2\n",
            "2 4\n",
            "3 5\n",
            "4 6\n"
          ]
        },
        {
          "output_type": "execute_result",
          "data": {
            "text/plain": [
              "[5, 4]"
            ]
          },
          "metadata": {},
          "execution_count": 4
        }
      ]
    }
  ]
}