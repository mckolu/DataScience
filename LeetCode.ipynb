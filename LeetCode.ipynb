{
  "nbformat": 4,
  "nbformat_minor": 0,
  "metadata": {
    "colab": {
      "provenance": [],
      "authorship_tag": "ABX9TyN+lYeMnBsSpSA7N+Am46uj",
      "include_colab_link": true
    },
    "kernelspec": {
      "name": "python3",
      "display_name": "Python 3"
    },
    "language_info": {
      "name": "python"
    }
  },
  "cells": [
    {
      "cell_type": "markdown",
      "metadata": {
        "id": "view-in-github",
        "colab_type": "text"
      },
      "source": [
        "<a href=\"https://colab.research.google.com/github/mckolu/DataScience/blob/main/LeetCode.ipynb\" target=\"_parent\"><img src=\"https://colab.research.google.com/assets/colab-badge.svg\" alt=\"Open In Colab\"/></a>"
      ]
    },
    {
      "cell_type": "code",
      "execution_count": null,
      "metadata": {
        "id": "knR6fx7_rZST"
      },
      "outputs": [],
      "source": [
        "# Question 1: TwoSum\n",
        "\n",
        "class Solution:\n",
        "    # def twoSum(self, nums: List[int], target: int) -> List[int]:\n",
        "    def twoSum(self, nums, target):\n",
        "        print('nums: ', nums, 'target: ', target)\n",
        "        values = {}\n",
        "        for index, value in enumerate(nums):   \n",
        "            if target - value in values:\n",
        "                return (values[target - value], index)\n",
        "            else:\n",
        "                values[value] = index\n",
        "\n",
        "\n",
        "test = Solution()\n",
        "test.twoSum([2,5,6,7,4,12,14,16,22], 30)"
      ]
    },
    {
      "cell_type": "code",
      "source": [
        "def twoSum1(nums, target):\n",
        "  print('nums: ', nums, 'target: ', target)\n",
        "  values ={}\n",
        "  for idx, value in enumerate(nums):\n",
        "    print(idx, value)\n",
        "    if target-value in values.values():\n",
        "      return values[target-value]\n",
        "\n",
        "\n",
        "twoSum1([2,5,6,12,14,16,22], 30)\n",
        "\n"
      ],
      "metadata": {
        "colab": {
          "base_uri": "https://localhost:8080/"
        },
        "id": "5QeksZegsPx9",
        "outputId": "8342ade6-238a-42f8-c8c7-842e9cd85f42"
      },
      "execution_count": null,
      "outputs": [
        {
          "output_type": "stream",
          "name": "stdout",
          "text": [
            "nums:  [2, 5, 6, 12, 14, 16, 22] target:  30\n",
            "0 2\n",
            "1 5\n",
            "2 6\n",
            "3 12\n",
            "4 14\n",
            "5 16\n",
            "6 22\n"
          ]
        }
      ]
    }
  ]
}