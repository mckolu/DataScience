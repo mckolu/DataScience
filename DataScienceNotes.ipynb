{
  "nbformat": 4,
  "nbformat_minor": 0,
  "metadata": {
    "colab": {
      "provenance": [],
      "authorship_tag": "ABX9TyO76NkpFEYo8Jf8lWAmZDJf",
      "include_colab_link": true
    },
    "kernelspec": {
      "name": "python3",
      "display_name": "Python 3"
    },
    "language_info": {
      "name": "python"
    },
    "accelerator": "GPU"
  },
  "cells": [
    {
      "cell_type": "markdown",
      "metadata": {
        "id": "view-in-github",
        "colab_type": "text"
      },
      "source": [
        "<a href=\"https://colab.research.google.com/github/mckolu/DataScience/blob/main/DataScienceNotes.ipynb\" target=\"_parent\"><img src=\"https://colab.research.google.com/assets/colab-badge.svg\" alt=\"Open In Colab\"/></a>"
      ]
    },
    {
      "cell_type": "code",
      "execution_count": 3,
      "metadata": {
        "id": "9ie4LMuvHAe7"
      },
      "outputs": [],
      "source": [
        "# Tesla T4\n",
        "# !nvidia-smi\n",
        "# !nvidia-smi -L"
      ]
    },
    {
      "cell_type": "code",
      "source": [
        "# DICTIONARIES\n",
        "dict = {\n",
        "    'student1': 'name lastname',\n",
        "    'address': 'city'\n",
        "}\n",
        "\n",
        "dict['student1']\n",
        "\n",
        "for key, value in dict.items():\n",
        "  print ('key: ', key, '--- value: ', value)"
      ],
      "metadata": {
        "colab": {
          "base_uri": "https://localhost:8080/"
        },
        "id": "sJMRKEwqHO-6",
        "outputId": "01989e15-df41-4bd3-be11-b130351fedc4"
      },
      "execution_count": 12,
      "outputs": [
        {
          "output_type": "stream",
          "name": "stdout",
          "text": [
            "key:  student1 --- value:  name lastname\n",
            "key:  address --- value:  city\n"
          ]
        }
      ]
    },
    {
      "cell_type": "code",
      "source": [
        "# NUMPY\n",
        "import numpy as np\n",
        "np.zeros([2,5])\n",
        "np.arange(1,11,4) # numbers between 1-10 skip 4 numbers each time\n",
        "np.linspace(1,5,10) # put 10 numbers between 1-5 increasing linearly"
      ],
      "metadata": {
        "id": "ip_md3boOrN0"
      },
      "execution_count": null,
      "outputs": []
    },
    {
      "cell_type": "markdown",
      "source": [
        "# **PANDAS**"
      ],
      "metadata": {
        "id": "O-HaTHYaSIIR"
      }
    },
    {
      "cell_type": "code",
      "source": [
        "# Importing data\n",
        "\n",
        "import pandas as pd\n",
        "df = pd.read_csv('https://raw.githubusercontent.com/codebasics/py/master/pandas/1_intro/nyc_weather.csv')\n",
        "df.head()\n",
        "\n",
        "df['Temperature'].max()"
      ],
      "metadata": {
        "id": "ZV8LQdpJHPBQ"
      },
      "execution_count": null,
      "outputs": []
    },
    {
      "cell_type": "code",
      "source": [
        "# Another way of creating a data frame is using dictionaries\n",
        "weather_data = {\n",
        "    'day': ['1/1/2017','1/2/2017','1/3/2017','1/4/2017','1/5/2017','1/6/2017'],\n",
        "    'temperature': [32,35,28,24,32,31],\n",
        "    'windspeed': [6,7,2,7,4,2],\n",
        "    'event': ['Rain', 'Sunny', 'Snow','Snow','Rain', 'Sunny']\n",
        "}\n",
        "\n",
        "df = pd.DataFrame(weather_data)\n"
      ],
      "metadata": {
        "colab": {
          "base_uri": "https://localhost:8080/"
        },
        "id": "-t5G_lQgIgwu",
        "outputId": "aa431705-a8b0-4c57-9fdc-d8a525f53b0c"
      },
      "execution_count": 24,
      "outputs": [
        {
          "output_type": "execute_result",
          "data": {
            "text/plain": [
              "6"
            ]
          },
          "metadata": {},
          "execution_count": 24
        }
      ]
    },
    {
      "cell_type": "code",
      "source": [
        "# Check the number of rows and columns\n",
        "rows, columns = df.shape\n",
        "rows"
      ],
      "metadata": {
        "colab": {
          "base_uri": "https://localhost:8080/"
        },
        "id": "aFNooAOIIgzD",
        "outputId": "b9d34cac-76f1-4ce3-ee18-d62048ace915"
      },
      "execution_count": 25,
      "outputs": [
        {
          "output_type": "execute_result",
          "data": {
            "text/plain": [
              "6"
            ]
          },
          "metadata": {},
          "execution_count": 25
        }
      ]
    },
    {
      "cell_type": "code",
      "source": [
        "df.head(2) # first two rows\n",
        "df.tail(2) # last two rows\n",
        "df[3:6] # rows 3-5\n",
        "\n",
        "df.columns # list column names\n",
        "\n",
        "df['day'] # day column with all rows. You can also use df.day\n"
      ],
      "metadata": {
        "colab": {
          "base_uri": "https://localhost:8080/"
        },
        "id": "2kTom8G4TWuM",
        "outputId": "b1ba952e-9640-4093-b334-0207641ffd81"
      },
      "execution_count": 34,
      "outputs": [
        {
          "output_type": "execute_result",
          "data": {
            "text/plain": [
              "3    1/4/2017\n",
              "4    1/5/2017\n",
              "5    1/6/2017\n",
              "Name: day, dtype: object"
            ]
          },
          "metadata": {},
          "execution_count": 34
        }
      ]
    },
    {
      "cell_type": "code",
      "source": [],
      "metadata": {
        "id": "B_av-fJqTWwj"
      },
      "execution_count": null,
      "outputs": []
    },
    {
      "cell_type": "code",
      "source": [],
      "metadata": {
        "id": "ZoRVOuVcTWzK"
      },
      "execution_count": null,
      "outputs": []
    }
  ]
}