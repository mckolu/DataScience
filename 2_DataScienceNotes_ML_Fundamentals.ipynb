{
  "nbformat": 4,
  "nbformat_minor": 0,
  "metadata": {
    "colab": {
      "provenance": [],
      "authorship_tag": "ABX9TyMSdxQn6SGNiWG0Ljoj/R5C",
      "include_colab_link": true
    },
    "kernelspec": {
      "name": "python3",
      "display_name": "Python 3"
    },
    "language_info": {
      "name": "python"
    },
    "accelerator": "GPU"
  },
  "cells": [
    {
      "cell_type": "markdown",
      "metadata": {
        "id": "view-in-github",
        "colab_type": "text"
      },
      "source": [
        "<a href=\"https://colab.research.google.com/github/mckolu/DataScience/blob/main/2_DataScienceNotes_ML_Fundamentals.ipynb\" target=\"_parent\"><img src=\"https://colab.research.google.com/assets/colab-badge.svg\" alt=\"Open In Colab\"/></a>"
      ]
    },
    {
      "cell_type": "markdown",
      "source": [
        "# Basics"
      ],
      "metadata": {
        "id": "wvIIRKgggzK6"
      }
    },
    {
      "cell_type": "code",
      "execution_count": 37,
      "metadata": {
        "id": "9ie4LMuvHAe7",
        "colab": {
          "base_uri": "https://localhost:8080/"
        },
        "outputId": "fdf42e8c-aa68-4166-9ede-e41130aece33"
      },
      "outputs": [
        {
          "output_type": "stream",
          "name": "stdout",
          "text": [
            "GPU 0: Tesla T4 (UUID: GPU-995832d6-fe39-5a75-deac-3806e14464b1)\n"
          ]
        }
      ],
      "source": [
        "# Tesla T4\n",
        "# !nvidia-smi\n",
        "!nvidia-smi -L\n",
        "\n",
        "# https://www.youtube.com/watch?v=8jazNUpO3lQ&list=PLeo1K3hjS3us_ELKYSj_Fth2tIEkdKXvV&index=41\n",
        "# https://github.com/codebasics/py/blob/master/ML/1_linear_reg/1_linear_regression.ipynb"
      ]
    },
    {
      "cell_type": "code",
      "source": [
        "import pandas as pd \n",
        "\n",
        "student_data = [\n",
        "    {'name': 'late kalas', 'grade': 2, 'major': 'CS' },\n",
        "    {'name': 'kate nope', 'grade': 1, 'major': 'science' },\n",
        "    {'name': 'mate hmm', 'grade': 3, 'major': 'social' },\n",
        "]\n",
        "\n",
        "df = pd.DataFrame(data=student_data, columns=['name','grade','major'])\n",
        "\n",
        "df[['name','major']][df['grade']==df['grade'].max()]\n"
      ],
      "metadata": {
        "id": "-t5G_lQgIgwu",
        "colab": {
          "base_uri": "https://localhost:8080/",
          "height": 81
        },
        "outputId": "7e5c3223-1732-4ef0-bb66-f8d710e0ace9"
      },
      "execution_count": 38,
      "outputs": [
        {
          "output_type": "execute_result",
          "data": {
            "text/plain": [
              "       name   major\n",
              "2  mate hmm  social"
            ],
            "text/html": [
              "\n",
              "  <div id=\"df-b4574a75-3ed6-4974-9145-dae68cb5d9ff\">\n",
              "    <div class=\"colab-df-container\">\n",
              "      <div>\n",
              "<style scoped>\n",
              "    .dataframe tbody tr th:only-of-type {\n",
              "        vertical-align: middle;\n",
              "    }\n",
              "\n",
              "    .dataframe tbody tr th {\n",
              "        vertical-align: top;\n",
              "    }\n",
              "\n",
              "    .dataframe thead th {\n",
              "        text-align: right;\n",
              "    }\n",
              "</style>\n",
              "<table border=\"1\" class=\"dataframe\">\n",
              "  <thead>\n",
              "    <tr style=\"text-align: right;\">\n",
              "      <th></th>\n",
              "      <th>name</th>\n",
              "      <th>major</th>\n",
              "    </tr>\n",
              "  </thead>\n",
              "  <tbody>\n",
              "    <tr>\n",
              "      <th>2</th>\n",
              "      <td>mate hmm</td>\n",
              "      <td>social</td>\n",
              "    </tr>\n",
              "  </tbody>\n",
              "</table>\n",
              "</div>\n",
              "      <button class=\"colab-df-convert\" onclick=\"convertToInteractive('df-b4574a75-3ed6-4974-9145-dae68cb5d9ff')\"\n",
              "              title=\"Convert this dataframe to an interactive table.\"\n",
              "              style=\"display:none;\">\n",
              "        \n",
              "  <svg xmlns=\"http://www.w3.org/2000/svg\" height=\"24px\"viewBox=\"0 0 24 24\"\n",
              "       width=\"24px\">\n",
              "    <path d=\"M0 0h24v24H0V0z\" fill=\"none\"/>\n",
              "    <path d=\"M18.56 5.44l.94 2.06.94-2.06 2.06-.94-2.06-.94-.94-2.06-.94 2.06-2.06.94zm-11 1L8.5 8.5l.94-2.06 2.06-.94-2.06-.94L8.5 2.5l-.94 2.06-2.06.94zm10 10l.94 2.06.94-2.06 2.06-.94-2.06-.94-.94-2.06-.94 2.06-2.06.94z\"/><path d=\"M17.41 7.96l-1.37-1.37c-.4-.4-.92-.59-1.43-.59-.52 0-1.04.2-1.43.59L10.3 9.45l-7.72 7.72c-.78.78-.78 2.05 0 2.83L4 21.41c.39.39.9.59 1.41.59.51 0 1.02-.2 1.41-.59l7.78-7.78 2.81-2.81c.8-.78.8-2.07 0-2.86zM5.41 20L4 18.59l7.72-7.72 1.47 1.35L5.41 20z\"/>\n",
              "  </svg>\n",
              "      </button>\n",
              "      \n",
              "  <style>\n",
              "    .colab-df-container {\n",
              "      display:flex;\n",
              "      flex-wrap:wrap;\n",
              "      gap: 12px;\n",
              "    }\n",
              "\n",
              "    .colab-df-convert {\n",
              "      background-color: #E8F0FE;\n",
              "      border: none;\n",
              "      border-radius: 50%;\n",
              "      cursor: pointer;\n",
              "      display: none;\n",
              "      fill: #1967D2;\n",
              "      height: 32px;\n",
              "      padding: 0 0 0 0;\n",
              "      width: 32px;\n",
              "    }\n",
              "\n",
              "    .colab-df-convert:hover {\n",
              "      background-color: #E2EBFA;\n",
              "      box-shadow: 0px 1px 2px rgba(60, 64, 67, 0.3), 0px 1px 3px 1px rgba(60, 64, 67, 0.15);\n",
              "      fill: #174EA6;\n",
              "    }\n",
              "\n",
              "    [theme=dark] .colab-df-convert {\n",
              "      background-color: #3B4455;\n",
              "      fill: #D2E3FC;\n",
              "    }\n",
              "\n",
              "    [theme=dark] .colab-df-convert:hover {\n",
              "      background-color: #434B5C;\n",
              "      box-shadow: 0px 1px 3px 1px rgba(0, 0, 0, 0.15);\n",
              "      filter: drop-shadow(0px 1px 2px rgba(0, 0, 0, 0.3));\n",
              "      fill: #FFFFFF;\n",
              "    }\n",
              "  </style>\n",
              "\n",
              "      <script>\n",
              "        const buttonEl =\n",
              "          document.querySelector('#df-b4574a75-3ed6-4974-9145-dae68cb5d9ff button.colab-df-convert');\n",
              "        buttonEl.style.display =\n",
              "          google.colab.kernel.accessAllowed ? 'block' : 'none';\n",
              "\n",
              "        async function convertToInteractive(key) {\n",
              "          const element = document.querySelector('#df-b4574a75-3ed6-4974-9145-dae68cb5d9ff');\n",
              "          const dataTable =\n",
              "            await google.colab.kernel.invokeFunction('convertToInteractive',\n",
              "                                                     [key], {});\n",
              "          if (!dataTable) return;\n",
              "\n",
              "          const docLinkHtml = 'Like what you see? Visit the ' +\n",
              "            '<a target=\"_blank\" href=https://colab.research.google.com/notebooks/data_table.ipynb>data table notebook</a>'\n",
              "            + ' to learn more about interactive tables.';\n",
              "          element.innerHTML = '';\n",
              "          dataTable['output_type'] = 'display_data';\n",
              "          await google.colab.output.renderOutput(dataTable, element);\n",
              "          const docLink = document.createElement('div');\n",
              "          docLink.innerHTML = docLinkHtml;\n",
              "          element.appendChild(docLink);\n",
              "        }\n",
              "      </script>\n",
              "    </div>\n",
              "  </div>\n",
              "  "
            ]
          },
          "metadata": {},
          "execution_count": 38
        }
      ]
    },
    {
      "cell_type": "markdown",
      "source": [
        "# Linear Regression\n",
        "\n",
        "* Modeling the relationship as a linear equation through recomputing the weights for each feature. \n",
        "* Find the relationship between dependent and independent variables. **y = mx+b** m is the coefficient (slope, gradient) and b is the intercept.\n"
      ],
      "metadata": {
        "id": "4imVsAyAd011"
      }
    },
    {
      "cell_type": "code",
      "source": [
        "# Create/Import Data and Visualize\n",
        "\n",
        "homeprices = [\n",
        "    {'area': '2600', 'price': 550000},\n",
        "    {'area': '3000', 'price': 565000},\n",
        "    {'area': '3200', 'price': 610000},\n",
        "    {'area': '3600', 'price': 680000},\n",
        "    {'area': '4000', 'price': 725000}\n",
        "]\n",
        "\n",
        "df = pd.DataFrame(data=homeprices, columns=['area','price'])\n",
        "\n",
        "import matplotlib.pyplot as plt\n",
        "plt.scatter(df['area'], df['price'], color='blue', marker='+')\n",
        "plt.xlabel('area square ft')\n",
        "plt.ylabel('price $US')"
      ],
      "metadata": {
        "id": "qor7muT-c2Gt",
        "colab": {
          "base_uri": "https://localhost:8080/",
          "height": 297
        },
        "outputId": "96189cb7-0590-4c19-c201-048b7781cc93"
      },
      "execution_count": 39,
      "outputs": [
        {
          "output_type": "execute_result",
          "data": {
            "text/plain": [
              "Text(0, 0.5, 'price $US')"
            ]
          },
          "metadata": {},
          "execution_count": 39
        },
        {
          "output_type": "display_data",
          "data": {
            "text/plain": [
              "<Figure size 432x288 with 1 Axes>"
            ],
            "image/png": "[encoded data removed]"
          },
          "metadata": {
            "needs_background": "light"
          }
        }
      ]
    },
    {
      "cell_type": "markdown",
      "source": [
        "* Steps: Square the individual errors, sum them up, and try to minimize the error by taking the derivative of the error iteratively.\n",
        "* INPUT (independent variables) needs to be 2D (df[[''area]]) and the dependent variable needs to be 1D (df['price']). Predict needs to be the same shape as the input.\n",
        "* reg.coef_ and reg.intercept_ provide coefficient adn the intercept of the model\n"
      ],
      "metadata": {
        "id": "vDNXZ1Amoxrp"
      }
    },
    {
      "cell_type": "code",
      "source": [
        "from sklearn import linear_model\n",
        "\n",
        "lin_reg = linear_model.LinearRegression()\n",
        "\n",
        "area = df[['area']].values\n",
        "price = df['price']\n",
        "\n",
        "lin_reg.fit(area, price)\n",
        "# reg.coef_\n",
        "# reg.intercept_\n",
        "\n",
        "lin_reg.predict([[3300]])\n",
        "\n",
        "\n",
        "plt.xlabel('area square ft')\n",
        "plt.ylabel('price $US')\n",
        "plt.scatter(df['area'], df['price'], color='blue', marker='+')"
      ],
      "metadata": {
        "id": "85blHd0N8lSa",
        "colab": {
          "base_uri": "https://localhost:8080/",
          "height": 297
        },
        "outputId": "ec0d74a2-96fb-4384-fe84-46dbd5cc3850"
      },
      "execution_count": 150,
      "outputs": [
        {
          "output_type": "execute_result",
          "data": {
            "text/plain": [
              "[<matplotlib.lines.Line2D at 0x7efe5c969e10>]"
            ]
          },
          "metadata": {},
          "execution_count": 150
        },
        {
          "output_type": "display_data",
          "data": {
            "text/plain": [
              "<Figure size 432x288 with 1 Axes>"
            ],
            "image/png": "[encoded data removed]"
          },
          "metadata": {
            "needs_background": "light"
          }
        }
      ]
    },
    {
      "cell_type": "code",
      "source": [
        "# Exercise\n",
        "data = pd.read_csv('https://raw.githubusercontent.com/codebasics/py/master/ML/1_linear_reg/Exercise/canada_per_capita_income.csv')\n",
        "\n",
        "lin = linear_model.LinearRegression()\n",
        "\n",
        "X = data.iloc[:,0:1]\n",
        "y = data.iloc[:,-1]\n",
        "\n",
        "lin.fit(X,y)\n",
        "lin.predict([[2020]])\n",
        "\n"
      ],
      "metadata": {
        "colab": {
          "base_uri": "https://localhost:8080/"
        },
        "id": "ZqfRF99vqPUZ",
        "outputId": "6db44ea1-4a02-4926-a813-4b94ea6eddba"
      },
      "execution_count": 65,
      "outputs": [
        {
          "output_type": "stream",
          "name": "stderr",
          "text": [
            "/usr/local/lib/python3.7/dist-packages/sklearn/base.py:451: UserWarning: X does not have valid feature names, but LinearRegression was fitted with feature names\n",
            "  \"X does not have valid feature names, but\"\n"
          ]
        },
        {
          "output_type": "execute_result",
          "data": {
            "text/plain": [
              "array([41288.69409442])"
            ]
          },
          "metadata": {},
          "execution_count": 65
        }
      ]
    },
    {
      "cell_type": "markdown",
      "source": [
        "# Multivariate Linear Regression"
      ],
      "metadata": {
        "id": "meldA8C9twZA"
      }
    },
    {
      "cell_type": "code",
      "source": [
        "# The same idea\n",
        "\n",
        "df2 = pd.read_csv('https://raw.githubusercontent.com/codebasics/py/master/ML/2_linear_reg_multivariate/homeprices.csv')\n",
        "\n",
        "df2.bedrooms = df2.bedrooms.fillna(df2.bedrooms.median())\n",
        "\n",
        "X = df2.iloc[:,:-1]\n",
        "y = df2.iloc[:,-1]\n",
        "\n",
        "mv_lin = linear_model.LinearRegression()\n",
        "\n",
        "mv_lin.fit(X,y)\n",
        "\n",
        "# mv_lin.coef_\n",
        "# mv_lin.intercept_\n",
        "\n",
        "mv_lin.predict([[3000,3,40]]) # 498408.25158031\n",
        "# mv_lin.predict([[2500,4,5]]) # 578876.03748933\n"
      ],
      "metadata": {
        "colab": {
          "base_uri": "https://localhost:8080/"
        },
        "id": "-ydQSYIAt09C",
        "outputId": "6fe55489-ae3a-481f-cb7f-3d125c183bdb"
      },
      "execution_count": 96,
      "outputs": [
        {
          "output_type": "stream",
          "name": "stderr",
          "text": [
            "/usr/local/lib/python3.7/dist-packages/sklearn/base.py:451: UserWarning: X does not have valid feature names, but LinearRegression was fitted with feature names\n",
            "  \"X does not have valid feature names, but\"\n"
          ]
        },
        {
          "output_type": "execute_result",
          "data": {
            "text/plain": [
              "array([498408.25158031])"
            ]
          },
          "metadata": {},
          "execution_count": 96
        }
      ]
    },
    {
      "cell_type": "code",
      "source": [
        "# Exercise:\n",
        "\n",
        "df3 = pd.read_csv('https://raw.githubusercontent.com/codebasics/py/master/ML/2_linear_reg_multivariate/Exercise/hiring.csv')\n",
        "\n",
        "# Pre-processing\n",
        "df3['test_score(out of 10)'] = df3['test_score(out of 10)'].fillna(math.floor(df3['test_score(out of 10)'].mean()))\n",
        "\n",
        "df3['experience'] = df3['experience'].fillna('zero')\n",
        "\n",
        "# !pip install word2number\n",
        "from word2number import w2n\n",
        "df3['experience'] = df3['experience'].apply(w2n.word_to_num)\n",
        "\n",
        "df3\n",
        "\n",
        "X = (df3.iloc[:,:-1])\n",
        "X\n",
        "y = df3.iloc[:,-1]\n",
        "\n",
        "mv2_lin = linear_model.LinearRegression()\n",
        "\n",
        "mv2_lin.fit(X,y)\n",
        "\n",
        "mv2_lin.predict(X) \n",
        "\n",
        "# mv2_lin.predict([[12,10,10]]) \n",
        "\n",
        "\n"
      ],
      "metadata": {
        "colab": {
          "base_uri": "https://localhost:8080/",
          "height": 283
        },
        "id": "-xLD9y0bt0_Z",
        "outputId": "0cbe5d3b-5f4f-4507-ecdb-e384fa5c69ca"
      },
      "execution_count": 168,
      "outputs": [
        {
          "output_type": "execute_result",
          "data": {
            "text/plain": [
              "[<matplotlib.lines.Line2D at 0x7efe5c62db90>]"
            ]
          },
          "metadata": {},
          "execution_count": 168
        },
        {
          "output_type": "display_data",
          "data": {
            "text/plain": [
              "<Figure size 432x288 with 1 Axes>"
            ],
            "image/png": "[encoded data removed]"
          },
          "metadata": {
            "needs_background": "light"
          }
        }
      ]
    },
    {
      "cell_type": "code",
      "source": [],
      "metadata": {
        "id": "TPMawBlet1CA"
      },
      "execution_count": null,
      "outputs": []
    }
  ]
}